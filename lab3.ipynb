{
 "cells": [
  {
   "cell_type": "code",
   "execution_count": 13,
   "metadata": {},
   "outputs": [],
   "source": [
    "import simpy\n",
    "import random\n",
    "import numpy as np\n",
    "import pandas as pd\n",
    "import matplotlib.pyplot as plt\n",
    "from sklearn.ensemble import IsolationForest\n"
   ]
  },
  {
   "cell_type": "markdown",
   "metadata": {},
   "source": [
    "Define the Device Class"
   ]
  },
  {
   "cell_type": "code",
   "execution_count": 14,
   "metadata": {},
   "outputs": [],
   "source": [
    "class Device:\n",
    "    def __init__(self, env, name, trust_level, is_authorized, location):\n",
    "        self.env = env\n",
    "        self.name = name\n",
    "        self.trust_level = trust_level\n",
    "        self.is_authorized = is_authorized\n",
    "        self.location = location\n",
    "        self.action = env.process(self.run())\n",
    "        self.access_denied = 0\n",
    "        self.false_positive = 0\n",
    "        self.false_negative = 0\n",
    "        self.anomalies_detected = 0\n",
    "        self.response_time = []\n",
    "        self.activity_log = []\n",
    "\n",
    "    def run(self):\n",
    "        while True:\n",
    "            start_time = self.env.now\n",
    "            activity = random.gauss(50, 10)\n",
    "            self.activity_log.append(activity)\n",
    "            if not self.verify():\n",
    "                self.access_denied += 1\n",
    "                if self.is_authorized:\n",
    "                    self.false_positive += 1\n",
    "            else:\n",
    "                if not self.is_authorized:\n",
    "                    self.false_negative += 1\n",
    "                if self.detect_anomaly(activity):\n",
    "                    detection_time = self.env.now - start_time\n",
    "                    self.response_time.append(detection_time)\n",
    "                    self.anomalies_detected += 1\n",
    "            yield self.env.timeout(random.randint(1, 3))\n",
    "\n",
    "    def verify(self):\n",
    "        return self.trust_level >= 50\n",
    "\n",
    "    def detect_anomaly(self, activity):\n",
    "        return False  # Placeholder for anomaly detection logic\n"
   ]
  },
  {
   "cell_type": "markdown",
   "metadata": {},
   "source": [
    "Define Contextual Factor Calculation Function"
   ]
  },
  {
   "cell_type": "code",
   "execution_count": 15,
   "metadata": {},
   "outputs": [],
   "source": [
    "def calculate_contextual_factor(device):\n",
    "    location_factor = 0\n",
    "    time_factor = 0\n",
    "    activity_factor = 0\n",
    "\n",
    "    # Location-based trust\n",
    "    trusted_locations = ['office', 'home']\n",
    "    if device.location in trusted_locations:\n",
    "        location_factor = 5\n",
    "    else:\n",
    "        location_factor = -5\n",
    "\n",
    "    # Time-based trust\n",
    "    current_hour = device.env.now % 24  # Simplified time calculation\n",
    "    if 9 <= current_hour <= 17:  # Regular business hours\n",
    "        time_factor = 2\n",
    "    else:\n",
    "        time_factor = -2\n",
    "\n",
    "    # Activity-based trust\n",
    "    expected_activity_range = (40, 60)\n",
    "    last_activity = device.activity_log[-1] if device.activity_log else 50\n",
    "    if expected_activity_range[0] <= last_activity <= expected_activity_range[1]:\n",
    "        activity_factor = 3\n",
    "    else:\n",
    "        activity_factor = -3\n",
    "\n",
    "    # Sum of contextual factors\n",
    "    contextual_factor = location_factor + time_factor + activity_factor\n",
    "    return contextual_factor\n"
   ]
  },
  {
   "cell_type": "markdown",
   "metadata": {},
   "source": [
    "Define Dynamic Trust Assessment Function"
   ]
  },
  {
   "cell_type": "code",
   "execution_count": 16,
   "metadata": {},
   "outputs": [],
   "source": [
    "def dynamic_trust_assessment(device):\n",
    "    behavioral_factor = -5 if device.detect_anomaly(device.activity_log[-1]) else 5\n",
    "    historical_factor = 0 if len(device.activity_log) < 10 else (sum(device.activity_log[-10:]) / 10 - 50) / 10\n",
    "    contextual_factor = calculate_contextual_factor(device)\n",
    "\n",
    "    new_trust_level = device.trust_level + 0.6 * behavioral_factor + 0.3 * historical_factor + 0.1 * contextual_factor\n",
    "    device.trust_level = max(0, min(100, new_trust_level))\n"
   ]
  },
  {
   "cell_type": "markdown",
   "metadata": {},
   "source": [
    "Define Simulation Function"
   ]
  },
  {
   "cell_type": "code",
   "execution_count": 17,
   "metadata": {},
   "outputs": [],
   "source": [
    "def run_simulation(env, devices):\n",
    "    while True:\n",
    "        for device in devices:\n",
    "            dynamic_trust_assessment(device)\n",
    "        yield env.timeout(1)\n"
   ]
  },
  {
   "cell_type": "markdown",
   "metadata": {},
   "source": [
    " Define Main Simulation Loop"
   ]
  },
  {
   "cell_type": "code",
   "execution_count": 18,
   "metadata": {},
   "outputs": [],
   "source": [
    "def simulate(env, devices, simulation_time=100):\n",
    "    env.process(run_simulation(env, devices))\n",
    "    env.run(until=simulation_time)\n",
    "    return devices\n",
    "\n",
    "env = simpy.Environment()\n",
    "devices = [Device(env, f'{i}', random.randint(30, 70), random.choice([True, False]), random.choice(['office', 'home', 'public'])) for i in range(10)]\n",
    "simulated_devices = simulate(env, devices)\n"
   ]
  },
  {
   "cell_type": "markdown",
   "metadata": {},
   "source": [
    "Train Anomaly Detector"
   ]
  },
  {
   "cell_type": "code",
   "execution_count": 19,
   "metadata": {},
   "outputs": [],
   "source": [
    "def train_anomaly_detector(devices):\n",
    "    activity_data = []\n",
    "    for device in devices:\n",
    "        activity_data.extend(device.activity_log)\n",
    "    activity_data = np.array(activity_data).reshape(-1, 1)\n",
    "    model = IsolationForest(contamination=0.1)\n",
    "    model.fit(activity_data)\n",
    "    return model\n",
    "\n",
    "anomaly_detector = train_anomaly_detector(simulated_devices)\n"
   ]
  },
  {
   "cell_type": "markdown",
   "metadata": {},
   "source": [
    "Assign Enhanced Detect Anomaly Method"
   ]
  },
  {
   "cell_type": "code",
   "execution_count": 20,
   "metadata": {},
   "outputs": [],
   "source": [
    "def enhanced_detect_anomaly(device, model):\n",
    "    last_activity = np.array([device.activity_log[-1]]).reshape(1, -1)\n",
    "    prediction = model.predict(last_activity)\n",
    "    return prediction == -1  # -1 indicates anomaly\n",
    "\n",
    "for device in simulated_devices:\n",
    "    device.detect_anomaly = lambda activity, d=device: enhanced_detect_anomaly(d, anomaly_detector)\n"
   ]
  },
  {
   "cell_type": "markdown",
   "metadata": {},
   "source": [
    " Data Collection and Visualization"
   ]
  },
  {
   "cell_type": "code",
   "execution_count": 23,
   "metadata": {},
   "outputs": [
    {
     "name": "stdout",
     "output_type": "stream",
     "text": [
      "  Device  Access Denied  False Positives  False Negatives  Anomalies Detected\n",
      "0      0              2                2                0                   0\n",
      "1      1              3                3                0                   0\n",
      "2      2              1                1                0                   0\n",
      "3      3              2                2                0                   0\n",
      "4      4              0                0               51                   0\n",
      "5      5              0                0                0                   0\n",
      "6      6              0                0               47                   0\n",
      "7      7              3                0               45                   0\n",
      "8      8              0                0                0                   0\n",
      "9      9              2                2                0                   0\n"
     ]
    }
   ],
   "source": [
    "data = {\n",
    "    \"Device\": [device.name for device in simulated_devices],\n",
    "    \"Access Denied\": [device.access_denied for device in simulated_devices],\n",
    "    \"False Positives\": [device.false_positive for device in simulated_devices],\n",
    "    \"False Negatives\": [device.false_negative for device in simulated_devices],\n",
    "    \"Anomalies Detected\": [device.anomalies_detected for device in simulated_devices],\n",
    "}\n",
    "\n",
    "df = pd.DataFrame(data)\n",
    "print(df)\n"
   ]
  },
  {
   "cell_type": "markdown",
   "metadata": {},
   "source": [
    "Plot Results"
   ]
  },
  {
   "cell_type": "code",
   "execution_count": 24,
   "metadata": {},
   "outputs": [
    {
     "data": {
      "image/png": "[encoded data removed]",
      "text/plain": [
       "<Figure size 1500x1000 with 6 Axes>"
      ]
     },
     "metadata": {},
     "output_type": "display_data"
    }
   ],
   "source": [
    "fig, axs = plt.subplots(2, 3, figsize=(15, 10))\n",
    "axs[0, 0].bar(df['Device'], df['Access Denied'])\n",
    "axs[0, 0].set_title('Access Denied')\n",
    "\n",
    "axs[0, 1].bar(df['Device'], df['False Positives'])\n",
    "axs[0, 1].set_title('False Positives')\n",
    "\n",
    "axs[0, 2].bar(df['Device'], df['False Negatives'])\n",
    "axs[0, 2].set_title('False Negatives')\n",
    "\n",
    "axs[1, 0].bar(df['Device'], df['Anomalies Detected'])\n",
    "axs[1, 0].set_title('Anomalies Detected')\n",
    "\n",
    "\n",
    "plt.tight_layout()\n",
    "plt.show()\n"
   ]
  },
  {
   "cell_type": "markdown",
   "metadata": {},
   "source": [
    "explanation"
   ]
  },
  {
   "cell_type": "markdown",
   "metadata": {},
   "source": [
    "Access Denied\n",
    "Chart Explanation:\n",
    "\n",
    "This chart shows how many times each device was denied access.\n",
    "If a device's trust level is too low (below 50), it can't get access.<br>\n",
    "Does it Make Sense?\n",
    "\n",
    "Devices with low trust levels should have higher access denied counts.\n",
    "Devices with high trust levels should have lower access denied counts.\n",
    "<br>False Positives\n",
    "Chart Explanation:\n",
    "\n",
    "This chart shows how many times an authorized device (one that should have access) was wrongly denied access.\n",
    "A false positive is when a device is mistakenly not trusted even though it should be.\n",
    "<br>Does it Make Sense?\n",
    "\n",
    "There should be fewer false positives, especially if the trust system is working well.\n",
    "Authorized devices should mostly have access and only be denied rarely.\n",
    "False Negatives\n",
    "Chart Explanation:\n",
    "\n",
    "This chart shows how many times an unauthorized device (one that should not have access) was wrongly allowed access.\n",
    "A false negative is when a device is mistakenly trusted even though it shouldn't be.\n",
    "<br>Does it Make Sense?\n",
    "\n",
    "There should be fewer false negatives, indicating that unauthorized devices are rarely allowed access.\n",
    "If a device shouldn't be trusted, it should mostly be denied access.\n",
    "Anomalies Detected\n",
    "Chart Explanation:\n",
    "\n",
    "This chart shows how many times an anomaly (unusual or unexpected behavior) was detected for each device.\n",
    "Anomalies could mean that something strange or suspicious is happening with the device.\n",
    "<br>Does it Make Sense?\n",
    "\n",
    "Devices that often show unusual behavior should have more anomalies detected.\n",
    "The anomaly detection system should be able to catch these unusual behaviors reliably.\n",
    "Overall Sense Check\n",
    "Access Denied: If a device has a low trust level, it should have higher access denied counts, and the chart should reflect that.\n",
    "False Positives: There should be fewer false positives, meaning authorized devices are usually getting the access they deserve.\n",
    "False Negatives: There should be fewer false negatives, meaning unauthorized devices are mostly being denied access.\n",
    "Anomalies Detected: The chart should show more anomalies for devices that exhibit unusual or suspicious behavior.\n"
   ]
  },
  {
   "cell_type": "markdown",
   "metadata": {},
   "source": []
  }
 ],
 "metadata": {
  "kernelspec": {
   "display_name": "6g",
   "language": "python",
   "name": "python3"
  },
  "language_info": {
   "codemirror_mode": {
    "name": "ipython",
    "version": 3
   },
   "file_extension": ".py",
   "mimetype": "text/x-python",
   "name": "python",
   "nbconvert_exporter": "python",
   "pygments_lexer": "ipython3",
   "version": "3.9.6"
  }
 },
 "nbformat": 4,
 "nbformat_minor": 2
}
